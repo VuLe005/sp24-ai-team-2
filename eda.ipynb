{
  "nbformat": 4,
  "nbformat_minor": 0,
  "metadata": {
    "colab": {
      "provenance": []
    },
    "kernelspec": {
      "name": "python3",
      "display_name": "Python 3"
    },
    "language_info": {
      "name": "python"
    }
  },
  "cells": [
    {
      "cell_type": "code",
      "execution_count": null,
      "metadata": {
        "colab": {
          "base_uri": "https://localhost:8080/"
        },
        "id": "QOWFR_PnPgWs",
        "outputId": "ac81bcae-5255-4c4b-8ed5-9b35ed2155f2"
      },
      "outputs": [
        {
          "output_type": "execute_result",
          "data": {
            "text/plain": [
              "tweet_id    sentiment  content                                                                                                                                  \n",
              "1693956175  empty      Thanks for pointing out the crucial problems @thakkar. Both of them have been taken care of  (cc: @Netra)                                    1\n",
              "1961412752  sadness    im well bored  had a great half term and i dont wanna go back to school on monday :'( enjoying the hot weatler lo0l ;)                       1\n",
              "1961411786  neutral    @dlanham hey is there a way u can make a somatic theme for leopard? some themes have installers already that are shapeshifter independent    1\n",
              "1961411848  neutral    You said you effed up your nose!                                                                                                             1\n",
              "1961412098  surprise   What a dreary day in LA. Where did all our sunshine go?                                                                                      1\n",
              "                                                                                                                                                                   ..\n",
              "1752590471  happiness  @Scorch_Mom Emailed you - it'll be on the porch anytime. If you come tomorrow, we'll have to miss you! Don't worry about knocking!           1\n",
              "1752590487  love       yay mothers day  i love mi madre                                                                                                             1\n",
              "1752590550  happiness  @alphonso I'm in SF right now                                                                                                                1\n",
              "1752590555  happiness  watching Season 2, episode 1 of House before bed... what a great bedtime story                                                               1\n",
              "1966441171  worry      @Greek4Honeybee oh no...where did your sunshine go?    *hands you a few rays of light...will this help a bit?*   ******hugs******            1\n",
              "Name: count, Length: 40000, dtype: int64"
            ]
          },
          "metadata": {},
          "execution_count": 15
        }
      ],
      "source": [
        "import pandas as pd\n",
        "\n",
        "df = pd.read_csv(\"sample_data/tweet_emotions.csv\")\n",
        "df.isnull()\n",
        "df.drop_duplicates()\n",
        "df.reindex()\n",
        "df.value_counts()"
      ]
    }
  ]
}